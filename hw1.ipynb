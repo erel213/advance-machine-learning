{
  "cells": [
    {
      "cell_type": "markdown",
      "id": "10316d5779a3733",
      "metadata": {
        "collapsed": false,
        "id": "10316d5779a3733",
        "jupyter": {
          "outputs_hidden": false
        }
      },
      "source": [
        "# Exercise 1: t-SNE\n",
        "\n",
        "## Do not start the exercise until you fully understand the submission guidelines.\n",
        "\n",
        "\n",
        "* The homework assignments are executed automatically.\n",
        "* Failure to comply with the following instructions will result in a significant penalty.\n",
        "* Appeals regarding your failure to read these instructions will be denied.\n",
        "\n",
        "## Read the following instructions carefully:\n",
        "\n",
        "1. This Jupyter notebook contains all the step-by-step instructions needed for this exercise.\n",
        "1. Write **efficient**, **vectorized** code whenever possible. Some calculations in this exercise may take several minutes when implemented efficiently, and might take much longer otherwise. Unnecessary loops will result in point deductions.\n",
        "1. You are responsible for the correctness of your code and should add as many tests as you see fit to this jupyter notebook. Tests will not be graded nor checked.\n",
        "1. You are allowed to use functions and methods from the [Python Standard Library](https://docs.python.org/3/library/).\n",
        "1. Your code must run without errors. Use at least `numpy` 1.15.4. Any code that cannot run will not be graded.\n",
        "1. Write your own code. Cheating will not be tolerated.\n",
        "1. Submission includes a zip file that contains this notebook, with your ID as the file name. For example, `hw1_123456789_987654321.zip` if you submitted in pairs and `hw1_123456789.zip` if you submitted the exercise alone. The name of the notebook should follow the same structure.\n",
        "   \n",
        "Please use only a **zip** file in your submission.\n",
        "\n",
        "---\n",
        "##❗❗❗❗❗❗❗❗❗**This is mandatory**❗❗❗❗❗❗❗❗❗\n",
        "## Please write your RUNI emails in this cell:\n",
        "\n",
        "### *** YOUR EMAILS HERE ***\n",
        "\n",
        "ariel.rabinovitch@post.runi.ac.il\n",
        "\n",
        "*לשים פה מייל של אראל*\n",
        "\n",
        "## Please sign that you have read and understood the instructions:\n",
        "\n",
        "### *** YOUR IDS HERE ***\n",
        "\n",
        "315871939\n",
        "\n",
        "*ת.ז. של אראל*\n"
      ]
    },
    {
      "cell_type": "code",
      "execution_count": 1,
      "id": "735832cbfa43f83",
      "metadata": {
        "id": "735832cbfa43f83",
        "jupyter": {
          "outputs_hidden": false
        }
      },
      "outputs": [],
      "source": [
        "# Import necessary libraries\n",
        "import numpy as np\n",
        "from sklearn.manifold import TSNE\n",
        "from sklearn.model_selection import train_test_split\n",
        "import matplotlib.pyplot as plt\n",
        "\n",
        "np.random.seed(42)"
      ]
    },
    {
      "cell_type": "markdown",
      "id": "8f877cca-f7d1-41ca-9d3d-28d587bec85c",
      "metadata": {
        "id": "8f877cca-f7d1-41ca-9d3d-28d587bec85c"
      },
      "source": [
        "# Design your algorithm\n",
        "Make sure to describe the algorithm, its limitations, and describe use-cases."
      ]
    },
    {
      "cell_type": "markdown",
      "id": "0ba7760b-b4ef-45a9-9aad-88b45fd8d442",
      "metadata": {
        "id": "0ba7760b-b4ef-45a9-9aad-88b45fd8d442"
      },
      "source": [
        "t-Distributed Stochastic Neighbor Embedding (t-SNE) is a nonlinear dimensionality reduction technique designed to embed high-dimensional data into a lower-dimensional space (typically 2D or 3D), while preserving the local structure of the data. It is especially useful for visualization tasks.\n",
        "\n",
        "The core idea is to convert pairwise similarities between data points into probabilities, both in the high-dimensional space and in the lower-dimensional space, and then minimize the Kullback-Leibler (KL) divergence between these two distributions.\n",
        "\n",
        "The algorithm proceeds in three main stages:\n",
        "\n",
        "##### Stage 1: Compute Pairwise Similarities in High Dimensions\n",
        "\n",
        "For each data point ​​$x_i$, we model the conditional probability ​$p_{i|j}$ that ​$x_i$ would pick ​$x_j$ as its neighbor, using a Gaussian distribution centered at ​$x_i$.\n",
        "\n",
        "The bandwidth (standard deviation) of this Gaussian is determined via perplexity, a hyperparameter that controls the effective number of neighbors.\n",
        "\n",
        "We then symmetrize the probabilities using:\n",
        "\n",
        "$$p_{ij} = \\frac{p_{j|i} + p_{i|j}}{2n}$$\n",
        "\n",
        "##### Stage 2: Compute Pairwise Similarities in Low Dimensions\n",
        "\n",
        "We initialize the low-dimensional representations ​$y_i$ randomly.\n",
        "\n",
        "Pairwise similarities ​​$q_{ij}$ between points ​$y_i$ and $y_j$ are computed using a Student t-distribution with one degree of freedom:\n",
        "\n",
        "$$q_{ij} = \\frac{(1 + \\|y_i - y_j\\|^2)^{-1}}{\\sum_{k \\ne l} (1 + \\|y_k - y_l\\|^2)^{-1}}$$\n",
        "\n",
        "##### Stage 3: Optimize via Gradient Descent\n",
        "\n",
        "We minimize the Kullback-Leibler divergence between the high-dimensional and low-dimensional similarity distributions:\n",
        "\n",
        "$$KL(P \\| Q) = \\sum_i \\sum_j p_{ij} \\log \\frac{p_{ij}}{q_{ij}}$$\n",
        "\n",
        "\n",
        "## Hyperparameters\n",
        "\n",
        "- Perplexity: Controls local neighborhood size in high-dimensional space; typically between 5 and 50.\n",
        "\n",
        "- Learning rate: Affects the step size during gradient descent.\n",
        "\n",
        "- Number of iterations: Total optimization steps, usually a few hundred to a few thousand.\n",
        "\n",
        "- Initialization: Usually with small random values or PCA-reduced space.\n",
        "\n",
        "\n",
        "### Optimization Strategy\n",
        "\n",
        "We use *gradient descent* to minimize the KL divergence. To improve convergence:\n",
        "\n",
        "### Limitations\n",
        "\n",
        "- Poor performance in preserving global structure of data.\n",
        "\n",
        "- Non-parametric: doesn't naturally support adding new data points\n",
        "\n",
        "### Use-Cases\n",
        "\n",
        "- Visualizing clusters in high-dimensional data (e.g., MNIST, word embeddings).\n",
        "\n",
        "- Exploratory data analysis where interpretability of local relationships is critical.\n",
        "\n",
        "- Understanding structure in embeddings from neural networks or feature spaces.\n"
      ]
    },
    {
      "cell_type": "markdown",
      "id": "2158ff2629daf2bb",
      "metadata": {
        "collapsed": false,
        "id": "2158ff2629daf2bb",
        "jupyter": {
          "outputs_hidden": false
        }
      },
      "source": [
        "# Your implementations\n",
        "You may add new cells, write helper functions or test code as you see fit.\n",
        "Please use the cell below and include a description of your implementation.\n",
        "Explain code design consideration, algorithmic choices and any other details you think is relevant to understanding your implementation.\n",
        "Failing to explain your code will lead to point deductions."
      ]
    },
    {
      "cell_type": "markdown",
      "id": "afe206c9-d1f4-440b-aca0-c807cdd79451",
      "metadata": {
        "id": "afe206c9-d1f4-440b-aca0-c807cdd79451"
      },
      "source": []
    },
    {
      "cell_type": "code",
      "execution_count": null,
      "id": "7b85d8f7447ebce0",
      "metadata": {
        "id": "7b85d8f7447ebce0",
        "jupyter": {
          "outputs_hidden": false
        }
      },
      "outputs": [],
      "source": [
        "class CustomTSNE:\n",
        "    def __init__(self, perplexity=30.0, n_components=2, n_iter=1000, learning_rate=200.0):\n",
        "        self.perplexity = perplexity\n",
        "        self.n_components = n_components\n",
        "        self.n_iter = n_iter\n",
        "        self.learning_rate = learning_rate\n",
        "        # Note: You may add more attributes\n",
        "\n",
        "    # Part 1: Implementing t-SNE\n",
        "        # Step 1: Compute pairwise affinities in the original space with a Gaussian distribution\n",
        "        # Your code here\n",
        "\n",
        "        # Return Y, the 2D representation of the input data\n",
        "        pass\n",
        "\n",
        "    # Part 2: Transformation of New Data Points\n",
        "    def transform(self, X_original, Y_original, X_new):\n",
        "        # Implement your method for incorporating new points into the existing t-SNE layout\n",
        "        # Your code here\n",
        "\n",
        "        # Return Y_new, the transformed data\n",
        "        pass"
      ]
    },
    {
      "cell_type": "markdown",
      "id": "df24f179351fa008",
      "metadata": {
        "collapsed": false,
        "id": "df24f179351fa008",
        "jupyter": {
          "outputs_hidden": false
        }
      },
      "source": [
        "# Load data\n",
        "Please use the cell below to discuss your dataset choice and why it is appropriate (or not) for this algorithm."
      ]
    },
    {
      "cell_type": "markdown",
      "id": "74c4083f-5267-44d3-89ed-65864f82aa57",
      "metadata": {
        "id": "74c4083f-5267-44d3-89ed-65864f82aa57"
      },
      "source": []
    },
    {
      "cell_type": "code",
      "execution_count": null,
      "id": "a14a3b8890e86f9",
      "metadata": {
        "id": "a14a3b8890e86f9",
        "jupyter": {
          "outputs_hidden": false
        }
      },
      "outputs": [],
      "source": [
        "# Load data\n",
        "\n",
        "# Normalize data if necessary\n",
        "\n",
        "# Split the data into train and test"
      ]
    },
    {
      "cell_type": "markdown",
      "id": "da49bb42f79a55f",
      "metadata": {
        "collapsed": false,
        "id": "da49bb42f79a55f",
        "jupyter": {
          "outputs_hidden": false
        }
      },
      "source": [
        "# t-SNE demonstration\n",
        "Demonstrate your t-SNE implementation.\n",
        "\n",
        "Add plots and figures. The code below is just to help you get started, and should not be your final submission.\n",
        "\n",
        "Please use the cell below to describe your results and tests.\n",
        "\n",
        "Describe the difference between your implementation and the sklearn implementation. Hint: you can look at the documentation."
      ]
    },
    {
      "cell_type": "markdown",
      "id": "a064afb5-aeea-48d8-b315-921bf4f8238f",
      "metadata": {
        "id": "a064afb5-aeea-48d8-b315-921bf4f8238f"
      },
      "source": []
    },
    {
      "cell_type": "code",
      "execution_count": null,
      "id": "9b3628856e1335fd",
      "metadata": {
        "id": "9b3628856e1335fd",
        "jupyter": {
          "outputs_hidden": false
        }
      },
      "outputs": [],
      "source": [
        "# Run your custom t-SNE implementation\n",
        "custom_tsne = CustomTSNE(n_components=2, perplexity=N/10)\n",
        "custom_Y = custom_tsne.fit_transform(X_train)\n",
        "\n",
        "# Run sklearn t-SNE\n",
        "sk_tsne = TSNE(n_components=2, init='random', perplexity=N/10)\n",
        "sk_Y = sk_tsne.fit_transform(X_train)\n",
        "\n",
        "# Visualization of the result\n",
        "plt.figure()\n",
        "plt.scatter(custom_Y[:, 0], custom_Y[:, 1], s=5, c=label_train.astype(int), cmap='tab10')\n",
        "plt.scatter(custom_Y[:, 0], custom_Y[:, 1], s=5, c=label_train.astype(int), cmap='tab10')\n",
        "plt.colorbar()\n",
        "plt.title('MNIST Data Embedded into 2D with Custom t-SNE')\n",
        "\n",
        "plt.figure()\n",
        "plt.scatter(sk_Y[:, 0], sk_Y[:, 1], s=5, c=label_train.astype(int), cmap='tab10')\n",
        "plt.colorbar()\n",
        "plt.title('MNIST Data Embedded into 2D with sklearn t-SNE')\n",
        "plt.show()"
      ]
    },
    {
      "cell_type": "markdown",
      "id": "73fa2fceedc77e92",
      "metadata": {
        "collapsed": false,
        "id": "73fa2fceedc77e92",
        "jupyter": {
          "outputs_hidden": false
        }
      },
      "source": [
        "# t-SNE extension - mapping new samples\n",
        "Demonstrate your t-SNE transformation procedure.\n",
        "\n",
        "Add plots and figures.\n",
        "\n",
        "Please use the cell below t describe your suggested approach in detail. Use formal notations where appropriate.\n",
        "Describe and discuss your results."
      ]
    },
    {
      "cell_type": "markdown",
      "id": "7b34701c-cc3b-439a-b2d0-393449cf5a20",
      "metadata": {
        "id": "7b34701c-cc3b-439a-b2d0-393449cf5a20"
      },
      "source": []
    },
    {
      "cell_type": "code",
      "execution_count": null,
      "id": "9d38dc132b23e7b",
      "metadata": {
        "id": "9d38dc132b23e7b",
        "jupyter": {
          "outputs_hidden": false
        }
      },
      "outputs": [],
      "source": [
        "# Transform new data\n",
        "custom_Y_new = custom_tsne.transform(X_train,custom_Y,X_test)\n",
        "\n",
        "# Visualization of the result\n",
        "plt.figure()\n",
        "plt.scatter(custom_Y[:, 0], custom_Y[:, 1], s=5, c=label_train.astype(int), cmap='tab10')\n",
        "plt.scatter(custom_Y_new[:, 0], custom_Y_new[:, 1], marker = '*', s=50, linewidths=0.5, edgecolors='k', c=label_test.astype(int), cmap='tab10')\n",
        "plt.colorbar()\n",
        "plt.title('MNIST Data Embedded into 2D with Custom t-SNE')"
      ]
    },
    {
      "cell_type": "markdown",
      "id": "18c95c7f-d3a9-4e3d-b539-02e020358766",
      "metadata": {
        "id": "18c95c7f-d3a9-4e3d-b539-02e020358766"
      },
      "source": [
        "# Use of generative AI\n",
        "Please use the cell below to describe your use of generative AI in this assignment."
      ]
    },
    {
      "cell_type": "markdown",
      "id": "36753fd7-8b2d-487b-82ae-dc318eca3ca6",
      "metadata": {
        "id": "36753fd7-8b2d-487b-82ae-dc318eca3ca6"
      },
      "source": []
    }
  ],
  "metadata": {
    "colab": {
      "provenance": []
    },
    "kernelspec": {
      "display_name": "base",
      "language": "python",
      "name": "python3"
    },
    "language_info": {
      "codemirror_mode": {
        "name": "ipython",
        "version": 3
      },
      "file_extension": ".py",
      "mimetype": "text/x-python",
      "name": "python",
      "nbconvert_exporter": "python",
      "pygments_lexer": "ipython3",
      "version": "3.11.10"
    }
  },
  "nbformat": 4,
  "nbformat_minor": 5
}
