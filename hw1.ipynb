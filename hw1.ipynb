{
  "cells": [
    {
      "cell_type": "markdown",
      "id": "10316d5779a3733",
      "metadata": {
        "collapsed": false,
        "id": "10316d5779a3733",
        "jupyter": {
          "outputs_hidden": false
        }
      },
      "source": [
        "# Exercise 1: t-SNE\n",
        "\n",
        "## Do not start the exercise until you fully understand the submission guidelines.\n",
        "\n",
        "\n",
        "* The homework assignments are executed automatically.\n",
        "* Failure to comply with the following instructions will result in a significant penalty.\n",
        "* Appeals regarding your failure to read these instructions will be denied.\n",
        "\n",
        "## Read the following instructions carefully:\n",
        "\n",
        "1. This Jupyter notebook contains all the step-by-step instructions needed for this exercise.\n",
        "1. Write **efficient**, **vectorized** code whenever possible. Some calculations in this exercise may take several minutes when implemented efficiently, and might take much longer otherwise. Unnecessary loops will result in point deductions.\n",
        "1. You are responsible for the correctness of your code and should add as many tests as you see fit to this jupyter notebook. Tests will not be graded nor checked.\n",
        "1. You are allowed to use functions and methods from the [Python Standard Library](https://docs.python.org/3/library/).\n",
        "1. Your code must run without errors. Use at least `numpy` 1.15.4. Any code that cannot run will not be graded.\n",
        "1. Write your own code. Cheating will not be tolerated.\n",
        "1. Submission includes a zip file that contains this notebook, with your ID as the file name. For example, `hw1_123456789_987654321.zip` if you submitted in pairs and `hw1_123456789.zip` if you submitted the exercise alone. The name of the notebook should follow the same structure.\n",
        "   \n",
        "Please use only a **zip** file in your submission.\n",
        "\n",
        "---\n",
        "##❗❗❗❗❗❗❗❗❗**This is mandatory**❗❗❗❗❗❗❗❗❗\n",
        "## Please write your RUNI emails in this cell:\n",
        "\n",
        "### *** YOUR EMAILS HERE ***\n",
        "\n",
        "ariel.rabinovitch@post.runi.ac.il\n",
        "\n",
        "*לשים פה מייל של אראל*\n",
        "\n",
        "## Please sign that you have read and understood the instructions:\n",
        "\n",
        "### *** YOUR IDS HERE ***\n",
        "\n",
        "315871939\n",
        "314804568\n"
      ]
    },
    {
      "cell_type": "code",
      "execution_count": 4,
      "id": "735832cbfa43f83",
      "metadata": {
        "id": "735832cbfa43f83",
        "jupyter": {
          "outputs_hidden": false
        }
      },
      "outputs": [],
      "source": [
        "# Import necessary libraries\n",
        "import numpy as np\n",
        "from sklearn.manifold import TSNE\n",
        "from sklearn.model_selection import train_test_split\n",
        "import matplotlib.pyplot as plt\n",
        "\n",
        "np.random.seed(42)"
      ]
    },
    {
      "cell_type": "markdown",
      "id": "8f877cca-f7d1-41ca-9d3d-28d587bec85c",
      "metadata": {
        "id": "8f877cca-f7d1-41ca-9d3d-28d587bec85c"
      },
      "source": [
        "# Design your algorithm\n",
        "Make sure to describe the algorithm, its limitations, and describe use-cases."
      ]
    },
    {
      "cell_type": "markdown",
      "id": "0ba7760b-b4ef-45a9-9aad-88b45fd8d442",
      "metadata": {
        "id": "0ba7760b-b4ef-45a9-9aad-88b45fd8d442"
      },
      "source": [
        "t-Distributed Stochastic Neighbor Embedding (t-SNE) is a nonlinear dimensionality reduction technique designed to embed high-dimensional data into a lower-dimensional space (typically 2D or 3D), while preserving the local structure of the data. It is especially useful for visualization tasks.\n",
        "\n",
        "The core idea is to convert pairwise similarities between data points into probabilities, both in the high-dimensional space and in the lower-dimensional space, and then minimize the Kullback-Leibler (KL) divergence between these two distributions.\n",
        "\n",
        "The algorithm proceeds in three main stages:\n",
        "\n",
        "##### Stage 1: Compute Pairwise Similarities in High Dimensions\n",
        "\n",
        "For each data point ​​$x_i$, we model the conditional probability ​$p_{i|j}$ that ​$x_i$ would pick ​$x_j$ as its neighbor, using a Gaussian distribution centered at ​$x_i$.\n",
        "\n",
        "The bandwidth (standard deviation) of this Gaussian is determined via perplexity, a hyperparameter that controls the effective number of neighbors.\n",
        "\n",
        "We then symmetrize the probabilities using:\n",
        "\n",
        "$$p_{ij} = \\frac{p_{j|i} + p_{i|j}}{2n}$$\n",
        "\n",
        "##### Stage 2: Compute Pairwise Similarities in Low Dimensions\n",
        "\n",
        "We initialize the low-dimensional representations ​$y_i$ randomly.\n",
        "\n",
        "Pairwise similarities ​​$q_{ij}$ between points ​$y_i$ and $y_j$ are computed using a Student t-distribution with one degree of freedom:\n",
        "\n",
        "$$q_{ij} = \\frac{(1 + \\|y_i - y_j\\|^2)^{-1}}{\\sum_{k \\ne l} (1 + \\|y_k - y_l\\|^2)^{-1}}$$\n",
        "\n",
        "##### Stage 3: Optimize via Gradient Descent\n",
        "\n",
        "We minimize the Kullback-Leibler divergence between the high-dimensional and low-dimensional similarity distributions:\n",
        "\n",
        "$$KL(P \\| Q) = \\sum_i \\sum_j p_{ij} \\log \\frac{p_{ij}}{q_{ij}}$$\n",
        "\n",
        "\n",
        "## Hyperparameters\n",
        "\n",
        "- Perplexity: Controls local neighborhood size in high-dimensional space; typically between 5 and 50.\n",
        "\n",
        "- Learning rate: Affects the step size during gradient descent.\n",
        "\n",
        "- Number of iterations: Total optimization steps, usually a few hundred to a few thousand.\n",
        "\n",
        "- Initialization: Usually with small random values or PCA-reduced space.\n",
        "\n",
        "\n",
        "### Optimization Strategy\n",
        "\n",
        "We use *gradient descent* to minimize the KL divergence. To improve convergence:\n",
        "\n",
        "### Limitations\n",
        "\n",
        "- Poor performance in preserving global structure of data.\n",
        "\n",
        "- Non-parametric: doesn't naturally support adding new data points\n",
        "\n",
        "### Use-Cases\n",
        "\n",
        "- Visualizing clusters in high-dimensional data (e.g., MNIST, word embeddings).\n",
        "\n",
        "- Exploratory data analysis where interpretability of local relationships is critical.\n",
        "\n",
        "- Understanding structure in embeddings from neural networks or feature spaces.\n"
      ]
    },
    {
      "cell_type": "markdown",
      "id": "2158ff2629daf2bb",
      "metadata": {
        "collapsed": false,
        "id": "2158ff2629daf2bb",
        "jupyter": {
          "outputs_hidden": false
        }
      },
      "source": [
        "# Your implementations\n",
        "You may add new cells, write helper functions or test code as you see fit.\n",
        "Please use the cell below and include a description of your implementation.\n",
        "Explain code design consideration, algorithmic choices and any other details you think is relevant to understanding your implementation.\n",
        "Failing to explain your code will lead to point deductions."
      ]
    },
    {
      "cell_type": "markdown",
      "id": "afe206c9-d1f4-440b-aca0-c807cdd79451",
      "metadata": {
        "id": "afe206c9-d1f4-440b-aca0-c807cdd79451"
      },
      "source": []
    },
    {
      "cell_type": "code",
      "execution_count": 10,
      "id": "7b85d8f7447ebce0",
      "metadata": {
        "id": "7b85d8f7447ebce0",
        "jupyter": {
          "outputs_hidden": false
        }
      },
      "outputs": [],
      "source": [
        "class CustomTSNE:\n",
        "    def __init__(self, perplexity=30.0, n_components=2, n_iter=1000, learning_rate=200.0):\n",
        "        self.perplexity = perplexity\n",
        "        self.n_components = n_components\n",
        "        self.n_iter = n_iter\n",
        "        self.learning_rate = learning_rate\n",
        "        self.X = None\n",
        "        self.Y = None\n",
        "        self.P = None  # High-dimensional similarities\n",
        "        \n",
        "    def _compute_pairwise_distances(self, X):\n",
        "        \"\"\"Compute pairwise Euclidean distances between points.\"\"\"\n",
        "        sum_X = np.sum(np.square(X), axis=1)\n",
        "        D = np.add(np.add(-2 * np.dot(X, X.T), sum_X).T, sum_X)\n",
        "        return D\n",
        "    \n",
        "    def _binary_search_perplexity(self, distances, perplexity, tol=1e-5, max_iter=50):\n",
        "        \"\"\"Binary search for sigma that achieves target perplexity.\"\"\"\n",
        "        n = distances.shape[0]\n",
        "        beta = np.ones(n)\n",
        "        beta_min = np.full(n, -np.inf)\n",
        "        beta_max = np.full(n, np.inf)\n",
        "        log_perp = np.log(perplexity)\n",
        "        \n",
        "        for i in range(max_iter):\n",
        "            # Compute probabilities\n",
        "            P = np.exp(-distances * beta[:, np.newaxis])\n",
        "            P[range(n), range(n)] = 0  # Set diagonal to 0\n",
        "            sum_P = np.sum(P, axis=1)\n",
        "            P = P / sum_P[:, np.newaxis]\n",
        "            \n",
        "            # Compute entropy\n",
        "            entropy = -np.sum(P * np.log(P + 1e-10))\n",
        "            \n",
        "            # Binary search\n",
        "            if np.abs(entropy - log_perp) < tol:\n",
        "                break\n",
        "                \n",
        "            if entropy > log_perp:\n",
        "                beta_min = beta.copy()\n",
        "                if np.all(beta_max == np.inf):\n",
        "                    beta *= 2\n",
        "                else:\n",
        "                    beta = (beta + beta_max) / 2\n",
        "            else:\n",
        "                beta_max = beta.copy()\n",
        "                if np.all(beta_min == -np.inf):\n",
        "                    beta /= 2\n",
        "                else:\n",
        "                    beta = (beta + beta_min) / 2\n",
        "                    \n",
        "        return P\n",
        "    \n",
        "    def _compute_high_dim_similarities(self, X):\n",
        "        \"\"\"Compute pairwise similarities in high-dimensional space.\"\"\"\n",
        "        distances = self._compute_pairwise_distances(X)\n",
        "        P = self._binary_search_perplexity(distances, self.perplexity)\n",
        "        # Symmetrize the probabilities\n",
        "        P = (P + P.T) / (2 * P.shape[0])\n",
        "        return P\n",
        "    \n",
        "    def _compute_low_dim_similarities(self, Y):\n",
        "        \"\"\"Compute pairwise similarities in low-dimensional space using t-distribution.\"\"\"\n",
        "        distances = self._compute_pairwise_distances(Y)\n",
        "        Q = 1 / (1 + distances)\n",
        "        np.fill_diagonal(Q, 0)\n",
        "        Q = Q / np.sum(Q)\n",
        "        return Q\n",
        "    \n",
        "    def _compute_gradient(self, Y, P, Q):\n",
        "        \"\"\"Compute gradient of KL divergence with respect to Y.\"\"\"\n",
        "        n = Y.shape[0]\n",
        "        dY = np.zeros((n, self.n_components))\n",
        "        \n",
        "        # Vectorized gradient computation\n",
        "        for i in range(n):\n",
        "            # Compute differences between point i and all other points\n",
        "            diff = Y[i] - Y  # Shape: (n, n_components)\n",
        "            # Compute squared distances\n",
        "            dist_sq = np.sum(diff**2, axis=1)  # Shape: (n,)\n",
        "            # Compute the gradient contribution from all points\n",
        "            grad = 4 * (P[i] - Q[i])[:, np.newaxis] * diff / (1 + dist_sq)[:, np.newaxis]\n",
        "            # Sum up all contributions\n",
        "            dY[i] = np.sum(grad, axis=0)\n",
        "            \n",
        "        return dY\n",
        "    \n",
        "    def fit_transform(self, X):\n",
        "        \"\"\"Fit t-SNE to the data and return the transformed data.\"\"\"\n",
        "        self.X = X\n",
        "        n = X.shape[0]\n",
        "        \n",
        "        print(\"Computing high-dimensional similarities...\")\n",
        "        # Step 1: Compute high-dimensional similarities\n",
        "        self.P = self._compute_high_dim_similarities(X)\n",
        "        \n",
        "        # Initialize Y randomly\n",
        "        self.Y = np.random.randn(n, self.n_components) * 1e-4\n",
        "        \n",
        "        print(\"Starting gradient descent...\")\n",
        "        # Gradient descent\n",
        "        for i in range(self.n_iter):\n",
        "            if i % 100 == 0:  # Print progress every 100 iterations\n",
        "                print(f\"Iteration {i}/{self.n_iter}\")\n",
        "                \n",
        "            # Compute low-dimensional similarities\n",
        "            Q = self._compute_low_dim_similarities(self.Y)\n",
        "            \n",
        "            # Compute gradient\n",
        "            dY = self._compute_gradient(self.Y, self.P, Q)\n",
        "            \n",
        "            # Update Y\n",
        "            self.Y = self.Y - self.learning_rate * dY\n",
        "            \n",
        "            # Center Y\n",
        "            self.Y = self.Y - np.mean(self.Y, axis=0)\n",
        "        \n",
        "        print(\"t-SNE completed!\")\n",
        "        return self.Y\n",
        "    \n",
        "    def transform(self, X_original, Y_original, X_new):\n",
        "        \"\"\"Transform new data points into the existing t-SNE layout.\"\"\"\n",
        "        # Compute distances between new points and original points\n",
        "        distances = np.zeros((X_new.shape[0], X_original.shape[0]))\n",
        "        for i in range(X_new.shape[0]):\n",
        "            distances[i] = np.sum((X_original - X_new[i])**2, axis=1)\n",
        "        \n",
        "        # Compute similarities using t-distribution\n",
        "        similarities = 1 / (1 + distances)\n",
        "        \n",
        "        # Weighted average of original points' positions\n",
        "        Y_new = np.zeros((X_new.shape[0], self.n_components))\n",
        "        for i in range(X_new.shape[0]):\n",
        "            weights = similarities[i] / np.sum(similarities[i])\n",
        "            Y_new[i] = np.sum(Y_original * weights[:, np.newaxis], axis=0)\n",
        "            \n",
        "        return Y_new"
      ]
    },
    {
      "cell_type": "markdown",
      "id": "df24f179351fa008",
      "metadata": {
        "collapsed": false,
        "id": "df24f179351fa008",
        "jupyter": {
          "outputs_hidden": false
        }
      },
      "source": [
        "# Load data\n",
        "Please use the cell below to discuss your dataset choice and why it is appropriate (or not) for this algorithm."
      ]
    },
    {
      "cell_type": "markdown",
      "id": "74c4083f-5267-44d3-89ed-65864f82aa57",
      "metadata": {
        "id": "74c4083f-5267-44d3-89ed-65864f82aa57"
      },
      "source": [
        "We choosed to used the MNSIT dataset for the following resons:\n",
        "1. It is high dimensional dataset (784 dimensions, 28 X 28 pixels)\n",
        "2. Has clear class structure (10 digits)"
      ]
    },
    {
      "cell_type": "code",
      "execution_count": 6,
      "id": "a14a3b8890e86f9",
      "metadata": {
        "id": "a14a3b8890e86f9",
        "jupyter": {
          "outputs_hidden": false
        }
      },
      "outputs": [
        {
          "name": "stdout",
          "output_type": "stream",
          "text": [
            "Training set shape: (4000, 784)\n",
            "Test set shape: (1000, 784)\n"
          ]
        },
        {
          "data": {
            "image/png": "[encoded data removed]",
            "text/plain": [
              "<Figure size 1000x500 with 10 Axes>"
            ]
          },
          "metadata": {},
          "output_type": "display_data"
        }
      ],
      "source": [
        "# Load data\n",
        "from sklearn.datasets import fetch_openml\n",
        "from sklearn.preprocessing import StandardScaler\n",
        "from sklearn.model_selection import train_test_split\n",
        "\n",
        "\n",
        "X, y = fetch_openml('mnist_784', version=1, return_X_y=True, as_frame=False)\n",
        "X = X.astype('float32')\n",
        "y = y.astype('int')\n",
        "\n",
        "# Normalize data if necessary\n",
        "X = (X - X.min()) / (X.max() - X.min()) # Min-Max\n",
        "\n",
        "# Split the data into train and test\n",
        "n_samples = 5000  # Using 5000 samples for demonstration\n",
        "X = X[:n_samples]\n",
        "y = y[:n_samples]\n",
        "\n",
        "X_train, X_test, y_train, y_test = train_test_split(\n",
        "    X, y, test_size=0.2, random_state=42\n",
        ")\n",
        "\n",
        "print(f\"Training set shape: {X_train.shape}\")\n",
        "print(f\"Test set shape: {X_test.shape}\")\n",
        "\n",
        "\n",
        "# Visualize some sample digits\n",
        "plt.figure(figsize=(10, 5))\n",
        "for i in range(10):\n",
        "    plt.subplot(2, 5, i + 1)\n",
        "    plt.imshow(X_train[i].reshape(28, 28), cmap='gray')\n",
        "    plt.title(f'Digit: {y_train[i]}')\n",
        "    plt.axis('off')\n",
        "plt.tight_layout()\n",
        "plt.show()"
      ]
    },
    {
      "cell_type": "markdown",
      "id": "da49bb42f79a55f",
      "metadata": {
        "collapsed": false,
        "id": "da49bb42f79a55f",
        "jupyter": {
          "outputs_hidden": false
        }
      },
      "source": [
        "# t-SNE demonstration\n",
        "Demonstrate your t-SNE implementation.\n",
        "\n",
        "Add plots and figures. The code below is just to help you get started, and should not be your final submission.\n",
        "\n",
        "Please use the cell below to describe your results and tests.\n",
        "\n",
        "Describe the difference between your implementation and the sklearn implementation. Hint: you can look at the documentation."
      ]
    },
    {
      "cell_type": "markdown",
      "id": "a064afb5-aeea-48d8-b315-921bf4f8238f",
      "metadata": {
        "id": "a064afb5-aeea-48d8-b315-921bf4f8238f"
      },
      "source": []
    },
    {
      "cell_type": "code",
      "execution_count": 11,
      "id": "9b3628856e1335fd",
      "metadata": {
        "id": "9b3628856e1335fd",
        "jupyter": {
          "outputs_hidden": false
        }
      },
      "outputs": [
        {
          "name": "stdout",
          "output_type": "stream",
          "text": [
            "Computing high-dimensional similarities...\n"
          ]
        },
        {
          "name": "stderr",
          "output_type": "stream",
          "text": [
            "/var/folders/98/vlk1t3vj1n16bfcdcs5bt09w0000gn/T/ipykernel_75699/2451854459.py:30: RuntimeWarning: invalid value encountered in divide\n",
            "  P = P / sum_P[:, np.newaxis]\n"
          ]
        },
        {
          "name": "stdout",
          "output_type": "stream",
          "text": [
            "Starting gradient descent...\n",
            "Iteration 0/1000\n",
            "Iteration 100/1000\n",
            "Iteration 200/1000\n",
            "Iteration 300/1000\n",
            "Iteration 400/1000\n",
            "Iteration 500/1000\n",
            "Iteration 600/1000\n",
            "Iteration 700/1000\n",
            "Iteration 800/1000\n",
            "Iteration 900/1000\n",
            "t-SNE completed!\n"
          ]
        },
        {
          "ename": "NameError",
          "evalue": "name 'N' is not defined",
          "output_type": "error",
          "traceback": [
            "\u001b[0;31m---------------------------------------------------------------------------\u001b[0m",
            "\u001b[0;31mNameError\u001b[0m                                 Traceback (most recent call last)",
            "Cell \u001b[0;32mIn[11], line 13\u001b[0m\n\u001b[1;32m     10\u001b[0m custom_Y \u001b[38;5;241m=\u001b[39m custom_tsne\u001b[38;5;241m.\u001b[39mfit_transform(X_train)\n\u001b[1;32m     12\u001b[0m \u001b[38;5;66;03m# Run sklearn t-SNE\u001b[39;00m\n\u001b[0;32m---> 13\u001b[0m sk_tsne \u001b[38;5;241m=\u001b[39m TSNE(n_components\u001b[38;5;241m=\u001b[39m\u001b[38;5;241m2\u001b[39m, init\u001b[38;5;241m=\u001b[39m\u001b[38;5;124m'\u001b[39m\u001b[38;5;124mrandom\u001b[39m\u001b[38;5;124m'\u001b[39m, perplexity\u001b[38;5;241m=\u001b[39m\u001b[43mN\u001b[49m\u001b[38;5;241m/\u001b[39m\u001b[38;5;241m10\u001b[39m)\n\u001b[1;32m     14\u001b[0m sk_Y \u001b[38;5;241m=\u001b[39m sk_tsne\u001b[38;5;241m.\u001b[39mfit_transform(X_train)\n\u001b[1;32m     16\u001b[0m \u001b[38;5;66;03m# Visualization of the result\u001b[39;00m\n",
            "\u001b[0;31mNameError\u001b[0m: name 'N' is not defined"
          ]
        }
      ],
      "source": [
        "# Run your custom t-SNE implementation\n",
        "# Initialize and run custom t-SNE\n",
        "custom_tsne = CustomTSNE(\n",
        "    perplexity=30.0,  # Typical value for MNIST\n",
        "    n_components=2,   # 2D visualization\n",
        "    n_iter=1000,      # Number of iterations\n",
        "    learning_rate=200.0  # Learning rate for gradient descent\n",
        ")\n",
        "\n",
        "custom_Y = custom_tsne.fit_transform(X_train)\n",
        "\n",
        "# Run sklearn t-SNE\n",
        "sk_tsne = TSNE(n_components=2, init='random', perplexity=N/10)\n",
        "sk_Y = sk_tsne.fit_transform(X_train)\n",
        "\n",
        "# Visualization of the result\n",
        "plt.figure()\n",
        "plt.scatter(custom_Y[:, 0], custom_Y[:, 1], s=5, c=label_train.astype(int), cmap='tab10')\n",
        "plt.scatter(custom_Y[:, 0], custom_Y[:, 1], s=5, c=label_train.astype(int), cmap='tab10')\n",
        "plt.colorbar()\n",
        "plt.title('MNIST Data Embedded into 2D with Custom t-SNE')\n",
        "\n",
        "plt.figure()\n",
        "plt.scatter(sk_Y[:, 0], sk_Y[:, 1], s=5, c=label_train.astype(int), cmap='tab10')\n",
        "plt.colorbar()\n",
        "plt.title('MNIST Data Embedded into 2D with sklearn t-SNE')\n",
        "plt.show()"
      ]
    },
    {
      "cell_type": "markdown",
      "id": "73fa2fceedc77e92",
      "metadata": {
        "collapsed": false,
        "id": "73fa2fceedc77e92",
        "jupyter": {
          "outputs_hidden": false
        }
      },
      "source": [
        "# t-SNE extension - mapping new samples\n",
        "Demonstrate your t-SNE transformation procedure.\n",
        "\n",
        "Add plots and figures.\n",
        "\n",
        "Please use the cell below t describe your suggested approach in detail. Use formal notations where appropriate.\n",
        "Describe and discuss your results."
      ]
    },
    {
      "cell_type": "markdown",
      "id": "7b34701c-cc3b-439a-b2d0-393449cf5a20",
      "metadata": {
        "id": "7b34701c-cc3b-439a-b2d0-393449cf5a20"
      },
      "source": []
    },
    {
      "cell_type": "code",
      "execution_count": null,
      "id": "9d38dc132b23e7b",
      "metadata": {
        "id": "9d38dc132b23e7b",
        "jupyter": {
          "outputs_hidden": false
        }
      },
      "outputs": [],
      "source": [
        "# Transform new data\n",
        "custom_Y_new = custom_tsne.transform(X_train,custom_Y,X_test)\n",
        "\n",
        "# Visualization of the result\n",
        "plt.figure()\n",
        "plt.scatter(custom_Y[:, 0], custom_Y[:, 1], s=5, c=label_train.astype(int), cmap='tab10')\n",
        "plt.scatter(custom_Y_new[:, 0], custom_Y_new[:, 1], marker = '*', s=50, linewidths=0.5, edgecolors='k', c=label_test.astype(int), cmap='tab10')\n",
        "plt.colorbar()\n",
        "plt.title('MNIST Data Embedded into 2D with Custom t-SNE')"
      ]
    },
    {
      "cell_type": "markdown",
      "id": "18c95c7f-d3a9-4e3d-b539-02e020358766",
      "metadata": {
        "id": "18c95c7f-d3a9-4e3d-b539-02e020358766"
      },
      "source": [
        "# Use of generative AI\n",
        "Please use the cell below to describe your use of generative AI in this assignment."
      ]
    },
    {
      "cell_type": "markdown",
      "id": "36753fd7-8b2d-487b-82ae-dc318eca3ca6",
      "metadata": {
        "id": "36753fd7-8b2d-487b-82ae-dc318eca3ca6"
      },
      "source": [
        "Used Generative AI (Claude) to understand the algorithm better and consildate with it about implementation specifics "
      ]
    }
  ],
  "metadata": {
    "colab": {
      "provenance": []
    },
    "kernelspec": {
      "display_name": ".venv",
      "language": "python",
      "name": "python3"
    },
    "language_info": {
      "codemirror_mode": {
        "name": "ipython",
        "version": 3
      },
      "file_extension": ".py",
      "mimetype": "text/x-python",
      "name": "python",
      "nbconvert_exporter": "python",
      "pygments_lexer": "ipython3",
      "version": "3.9.6"
    }
  },
  "nbformat": 4,
  "nbformat_minor": 5
}
